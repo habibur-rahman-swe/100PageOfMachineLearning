{
  "nbformat": 4,
  "nbformat_minor": 0,
  "metadata": {
    "colab": {
      "provenance": [],
      "authorship_tag": "ABX9TyP3xstdT4OA1oD5UG+rjoA7",
      "include_colab_link": true
    },
    "kernelspec": {
      "name": "python3",
      "display_name": "Python 3"
    },
    "language_info": {
      "name": "python"
    }
  },
  "cells": [
    {
      "cell_type": "markdown",
      "metadata": {
        "id": "view-in-github",
        "colab_type": "text"
      },
      "source": [
        "<a href=\"https://colab.research.google.com/github/habibur-rahman-swe/100PageOfMachineLearning/blob/main/InterestingThingsInML.ipynb\" target=\"_parent\"><img src=\"https://colab.research.google.com/assets/colab-badge.svg\" alt=\"Open In Colab\"/></a>"
      ]
    },
    {
      "cell_type": "markdown",
      "source": [
        "Interactive Input"
      ],
      "metadata": {
        "id": "Wp4JM_PjJaLN"
      }
    },
    {
      "cell_type": "code",
      "execution_count": null,
      "metadata": {
        "id": "kLl_FAMgJGTv"
      },
      "outputs": [],
      "source": [
        "interact(\n",
        "    make_prediction,\n",
        "    area=IntSlider(\n",
        "        min=X_train[\"surface_covered_in_m2\"].min(),\n",
        "        max=X_train[\"surface_covered_in_m2\"].max(),\n",
        "        value=X_train[\"surface_covered_in_m2\"].mean(),\n",
        "    ),\n",
        "    lat=FloatSlider(\n",
        "        min=X_train[\"lat\"].min(),\n",
        "        max=X_train[\"lat\"].max(),\n",
        "        step=0.01,\n",
        "        value=X_train[\"lat\"].mean(),\n",
        "    ),\n",
        "    lon=FloatSlider(\n",
        "        min=X_train[\"lon\"].min(),\n",
        "        max=X_train[\"lon\"].max(),\n",
        "        step=0.01,\n",
        "        value=X_train[\"lon\"].mean(),\n",
        "    ),\n",
        "    neighborhood=Dropdown(options=sorted(X_train[\"neighborhood\"].unique())),\n",
        ");"
      ]
    }
  ]
}